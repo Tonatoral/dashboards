{
 "cells": [
  {
   "cell_type": "code",
   "execution_count": 1,
   "id": "87c5db52",
   "metadata": {},
   "outputs": [],
   "source": [
    "import plotly.express as px\n",
    "import pandas as pd\n",
    "import plotly.offline as pyo\n",
    "#import qgrid\n",
    "#qgrid.enable()"
   ]
  },
  {
   "cell_type": "code",
   "execution_count": 2,
   "id": "0615b351",
   "metadata": {},
   "outputs": [],
   "source": [
    "def color_scale(value):\n",
    "    if value < 50:\n",
    "        return \"#FF0000\"#red\n",
    "    elif value >= 50 and value <= 80:\n",
    "        return \"#FFFF00\" #yellow\n",
    "    elif value > 80:\n",
    "        return \"#00FF00\" #green"
   ]
  },
  {
   "cell_type": "code",
   "execution_count": 3,
   "id": "a5664cb8",
   "metadata": {},
   "outputs": [],
   "source": [
    "#df = pd.read_csv('DataModelCoverage.csv')\n",
    "df=pd.read_csv('DataModelDetailedwDataTypes.csv')\n",
    "#print(df)"
   ]
  },
  {
   "cell_type": "code",
   "execution_count": 4,
   "id": "d595110f",
   "metadata": {},
   "outputs": [],
   "source": [
    "dfmean=df.groupby(['Country'])['Coverage'].mean()\n",
    "#print(dfmean)\n",
    "dfmean.to_csv(\"avgpercountry.csv\", index=True)"
   ]
  },
  {
   "cell_type": "code",
   "execution_count": 5,
   "id": "554e9260",
   "metadata": {},
   "outputs": [
    {
     "name": "stdout",
     "output_type": "stream",
     "text": [
      "Index(['Region', 'Country', 'Brand', 'Model', 'Type', 'Seats', 'Doors',\n",
      "       'Transmission', 'Fuel Type', 'Volume', 'Coverage', 'color'],\n",
      "      dtype='object')\n"
     ]
    },
    {
     "data": {
      "text/plain": [
       "'sunburst.html'"
      ]
     },
     "execution_count": 5,
     "metadata": {},
     "output_type": "execute_result"
    }
   ],
   "source": [
    "df['color']=df['Coverage'].apply(color_scale)\n",
    "print(df.columns)\n",
    "fig=px.sunburst(df, color='color',path=['Region','Country','Brand','Model','Volume','Coverage'],\n",
    "                hover_name='Model',\n",
    "                #hover_data={'Columnname':False}, # removes a column from the hover data\n",
    "                maxdepth=3,title='Click in the chart to explore our data coverage', \n",
    "                #template='ggplot2',\n",
    "                branchvalues='total', \n",
    "                values='Volume'\n",
    "               )\n",
    "fig.update_traces(textinfo='label+ percent entry')\n",
    "#px.sunburst()\n",
    "pyo.plot(fig, auto_open=True, output_type='file', filename='sunburst.html')"
   ]
  },
  {
   "cell_type": "code",
   "execution_count": 19,
   "id": "bc44909a",
   "metadata": {},
   "outputs": [
    {
     "name": "stdout",
     "output_type": "stream",
     "text": [
      "   Coverage  gap\n",
      "0        67   33\n",
      "1        91    9\n",
      "2        95    5\n",
      "3        86   14\n",
      "4        91    9\n"
     ]
    },
    {
     "data": {
      "text/plain": [
       "'GAP_sunburst.html'"
      ]
     },
     "execution_count": 19,
     "metadata": {},
     "output_type": "execute_result"
    }
   ],
   "source": [
    "df['gap']=100-df['Coverage']\n",
    "print(df[['Coverage', 'gap']].head())\n",
    "fig2=px.sunburst(df, color='color',path=['Region','Country','Brand','Model','gap'],\n",
    "                hover_name='Model',\n",
    "                #hover_data={'Columnname':False}, # removes a column from the hover data\n",
    "                maxdepth=3,title='Click in the chart to explore the GAPS in our data coverage', \n",
    "                #template='ggplot2',\n",
    "                branchvalues='remainder', #branchvalues='total',\n",
    "                values='gap'\n",
    "               )\n",
    "fig2.update_traces(textinfo='label')\n",
    "#px.sunburst()\n",
    "pyo.plot(fig2, auto_open=True, output_type='file', filename='GAP_sunburst.html')"
   ]
  },
  {
   "cell_type": "code",
   "execution_count": 7,
   "id": "dd6d8113",
   "metadata": {},
   "outputs": [],
   "source": [
    "#px.sunburst(df, color='color', values='Coverage', path=['Region','Country','Brand','Model','Coverage'],hover_name='Country')"
   ]
  },
  {
   "cell_type": "code",
   "execution_count": 8,
   "id": "6e87974f",
   "metadata": {
    "scrolled": false
   },
   "outputs": [],
   "source": [
    "dfmap = pd.read_csv('DataModelCoverageforMap.csv')\n",
    "dfmap['color']=dfmap['Coverage'].apply(color_scale)\n",
    "#color_scale=[[0, \"red\"], [0.60, \"yellow\"],[0.8, \"green\"]]\n",
    "#dfmap['Coverage_in_percentage'] = dfmap['Coverage'].astype(str) + '%'\n",
    "#px.choropleth(dfmap, locations='Country',color= 'color', title='Coverage in Europe',hover_data=['Coverage_in_percentage'],scope='europe')"
   ]
  },
  {
   "cell_type": "code",
   "execution_count": 9,
   "id": "74107584",
   "metadata": {},
   "outputs": [],
   "source": [
    "#print(dfmap)"
   ]
  },
  {
   "cell_type": "code",
   "execution_count": 10,
   "id": "887d9406",
   "metadata": {},
   "outputs": [],
   "source": [
    "#This changes a specific value in the plot\n",
    "#dfmap.loc[dfmap['Country'] == 'ALB', 'Coverage'] = 0"
   ]
  },
  {
   "cell_type": "code",
   "execution_count": null,
   "id": "8c2cf8c5",
   "metadata": {},
   "outputs": [],
   "source": []
  },
  {
   "cell_type": "code",
   "execution_count": 11,
   "id": "572bde5a",
   "metadata": {},
   "outputs": [],
   "source": [
    "#import plotly.express as px\n",
    "#import numpy as np\n",
    "#df = px.data.gapminder().query(\"year == 2007\")\n",
    "#fig = px.sunburst(df, path=['continent', 'country'], values='pop',\n",
    "#                  color='lifeExp', hover_data=['iso_alpha'],\n",
    "#                  color_continuous_scale='RdBu',\n",
    "#                  color_continuous_midpoint=np.average(df['lifeExp'], weights=df['pop']))\n",
    "#fig.show()"
   ]
  },
  {
   "cell_type": "code",
   "execution_count": 12,
   "id": "24a4beb4",
   "metadata": {},
   "outputs": [
    {
     "data": {
      "text/plain": [
       "'europemap.html'"
      ]
     },
     "execution_count": 12,
     "metadata": {},
     "output_type": "execute_result"
    }
   ],
   "source": [
    "#This code successfuly creates a european map with a trafic light color scale but it is continuous\n",
    "#dfmap['Coverage_in_percentage'] = dfmap['Coverage'].astype(str) + '%'\n",
    "fig1=px.choropleth(dfmap, locations='Country',color= 'Coverage',labels={'Coverage':'Coverage in %'},color_continuous_scale=[[0, \"red\"], [0.60, \"yellow\"],[0.8, \"green\"], [1, \"green\"]], range_color=(0,100), title='Coverage in Europe',hover_data=['Country'],scope='europe')\n",
    "pyo.plot(fig1, auto_open=True, output_type='file', filename='europemap.html')"
   ]
  }
 ],
 "metadata": {
  "kernelspec": {
   "display_name": "Python 3",
   "language": "python",
   "name": "python3"
  },
  "language_info": {
   "codemirror_mode": {
    "name": "ipython",
    "version": 3
   },
   "file_extension": ".py",
   "mimetype": "text/x-python",
   "name": "python",
   "nbconvert_exporter": "python",
   "pygments_lexer": "ipython3",
   "version": "3.9.5"
  },
  "vscode": {
   "interpreter": {
    "hash": "3ad933181bd8a04b432d3370b9dc3b0662ad032c4dfaa4e4f1596c548f763858"
   }
  }
 },
 "nbformat": 4,
 "nbformat_minor": 5
}
