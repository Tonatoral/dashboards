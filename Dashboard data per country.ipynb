{
 "cells": [
  {
   "cell_type": "code",
   "execution_count": 1,
   "id": "87c5db52",
   "metadata": {},
   "outputs": [],
   "source": [
    "import plotly.express as px\n",
    "import pandas as pd\n",
    "import plotly.offline as pyo\n",
    "import qgrid\n",
    "qgrid.enable()"
   ]
  },
  {
   "cell_type": "code",
   "execution_count": null,
   "id": "b513b2e6",
   "metadata": {},
   "outputs": [],
   "source": []
  },
  {
   "cell_type": "code",
   "execution_count": 2,
   "id": "0615b351",
   "metadata": {},
   "outputs": [],
   "source": [
    "def color_scale(value):\n",
    "    if value < 50:\n",
    "        return \"#FF0000\"#red\n",
    "    elif value >= 50 and value <= 80:\n",
    "        return \"#FFFF00\" #yellow\n",
    "    elif value > 80:\n",
    "        return \"#00FF00\" #green"
   ]
  },
  {
   "cell_type": "code",
   "execution_count": 3,
   "id": "a5664cb8",
   "metadata": {},
   "outputs": [],
   "source": [
    "df = pd.read_csv('DataModelCoverage.csv')\n",
    "#print(df)"
   ]
  },
  {
   "cell_type": "code",
   "execution_count": 4,
   "id": "d595110f",
   "metadata": {},
   "outputs": [
    {
     "name": "stdout",
     "output_type": "stream",
     "text": [
      "Country\n",
      "Aus             50.892857\n",
      "De              48.809524\n",
      "FR              50.595238\n",
      "ISR             52.083333\n",
      "IT              50.000000\n",
      "South Africa    50.297619\n",
      "Name: Coverage, dtype: float64\n"
     ]
    }
   ],
   "source": [
    "dfmean=df.groupby(['Country'])['Coverage'].mean()\n",
    "print(dfmean)\n",
    "dfmean.to_csv(\"avgpercountry.csv\", index=True)"
   ]
  },
  {
   "cell_type": "code",
   "execution_count": 13,
   "id": "554e9260",
   "metadata": {},
   "outputs": [
    {
     "data": {
      "text/plain": [
       "'sunburst.html'"
      ]
     },
     "execution_count": 13,
     "metadata": {},
     "output_type": "execute_result"
    }
   ],
   "source": [
    "df['color']=df['Coverage'].apply(color_scale)\n",
    "fig=px.sunburst(df, color='color', values='Coverage', path=['Region','Country','Brand','Model','Coverage'],\n",
    "                hover_name='Country')\n",
    "pyo.plot(fig, auto_open=True, output_type='file', filename='sunburst.html')"
   ]
  },
  {
   "cell_type": "code",
   "execution_count": 6,
   "id": "dd6d8113",
   "metadata": {},
   "outputs": [],
   "source": [
    "#px.choropleth(dfmean, locations=['Country'], color= ['Coverage'],color_continuous_scale='Viridis', title='Coverage Dashboard')"
   ]
  },
  {
   "cell_type": "code",
   "execution_count": 7,
   "id": "6e87974f",
   "metadata": {},
   "outputs": [
    {
     "name": "stdout",
     "output_type": "stream",
     "text": [
      "     Region       Country     Brand Model  Coverage  Group1  Group2  Group3  \\\n",
      "0    Europe            De      Audi    A1     75.00      75     100      75   \n",
      "1    Europe            De      Audi    A2     62.50      50      75      75   \n",
      "2    Europe            De      Audi    A3     50.00      50      75      25   \n",
      "3    Europe            De      Audi    A4     62.50      75      50      75   \n",
      "4    Europe            De      Audi    A6     62.50      75      50      50   \n",
      "..      ...           ...       ...   ...       ...     ...     ...     ...   \n",
      "121  Africa  South Africa  Mercedes  C100     25.00      25      50       0   \n",
      "122  Africa  South Africa  Mercedes  E500     50.00      75      50      25   \n",
      "123  Africa  South Africa  Mercedes  C230     75.00      75      75      75   \n",
      "124  Africa  South Africa  Mercedes   EQS     43.75      50      50      50   \n",
      "125  Africa  South Africa  Mercedes   EQE     50.00       0      50      75   \n",
      "\n",
      "     Group4  Data 1 1  ...  Data 2 4  Data 3 1  Data 3 2  Data 3 3  Data 3 4  \\\n",
      "0        50       100  ...       100       100       100       100         0   \n",
      "1        50         0  ...         0       100         0       100       100   \n",
      "2        50         0  ...       100         0         0       100         0   \n",
      "3        50         0  ...       100       100         0       100       100   \n",
      "4        75       100  ...         0         0         0       100       100   \n",
      "..      ...       ...  ...       ...       ...       ...       ...       ...   \n",
      "121      25         0  ...         0         0         0         0         0   \n",
      "122      50       100  ...       100         0       100         0         0   \n",
      "123      75       100  ...       100       100       100         0       100   \n",
      "124      25         0  ...         0         0         0       100       100   \n",
      "125      75         0  ...         0       100         0       100       100   \n",
      "\n",
      "     Data 4 1  Data 4 2  Data 4 3  Data 4 4    color  \n",
      "0         100         0         0       100  #FFFF00  \n",
      "1           0       100       100         0  #FFFF00  \n",
      "2         100         0       100         0  #FFFF00  \n",
      "3           0       100         0       100  #FFFF00  \n",
      "4         100         0       100       100  #FFFF00  \n",
      "..        ...       ...       ...       ...      ...  \n",
      "121       100         0         0         0  #FF0000  \n",
      "122         0       100         0       100  #FFFF00  \n",
      "123       100       100       100         0  #FFFF00  \n",
      "124         0         0         0       100  #FF0000  \n",
      "125       100         0       100       100  #FFFF00  \n",
      "\n",
      "[126 rows x 26 columns]\n"
     ]
    }
   ],
   "source": [
    "print(df)"
   ]
  },
  {
   "cell_type": "code",
   "execution_count": 8,
   "id": "f31bbc0c",
   "metadata": {},
   "outputs": [
    {
     "data": {
      "application/vnd.jupyter.widget-view+json": {
       "model_id": "ec9f10ec98074a528437e2f92764917e",
       "version_major": 2,
       "version_minor": 0
      },
      "text/plain": [
       "QgridWidget(grid_options={'fullWidthRows': True, 'syncColumnCellResize': True, 'forceFitColumns': True, 'defau…"
      ]
     },
     "metadata": {},
     "output_type": "display_data"
    }
   ],
   "source": [
    "#Trying to show the df in an excel similar way but didnt work.\n",
    "#qgrid_widget=qgrid.show_grid(df, show_toolbar=True)\n",
    "#qgrid_widget"
   ]
  },
  {
   "cell_type": "code",
   "execution_count": null,
   "id": "24a4beb4",
   "metadata": {},
   "outputs": [],
   "source": []
  }
 ],
 "metadata": {
  "kernelspec": {
   "display_name": "Python 3",
   "language": "python",
   "name": "python3"
  },
  "language_info": {
   "codemirror_mode": {
    "name": "ipython",
    "version": 3
   },
   "file_extension": ".py",
   "mimetype": "text/x-python",
   "name": "python",
   "nbconvert_exporter": "python",
   "pygments_lexer": "ipython3",
   "version": "3.9.5"
  }
 },
 "nbformat": 4,
 "nbformat_minor": 5
}
