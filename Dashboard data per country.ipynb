{
 "cells": [
  {
   "cell_type": "code",
   "execution_count": 1,
   "id": "87c5db52",
   "metadata": {},
   "outputs": [],
   "source": [
    "import plotly.express as px\n",
    "import pandas as pd\n",
    "import plotly.offline as pyo\n",
    "import dash\n",
    "from dash import dcc\n",
    "from dash import html\n",
    "import plotly.graph_objects as go"
   ]
  },
  {
   "cell_type": "code",
   "execution_count": 2,
   "id": "0615b351",
   "metadata": {},
   "outputs": [],
   "source": [
    "def color_scale(value):\n",
    "    if value < 50:\n",
    "        return \"#FF0000\"#red\n",
    "    elif value >= 50 and value <= 80:\n",
    "        return \"#FFFF00\" #yellow\n",
    "    elif value > 80:\n",
    "        return \"#00FF00\" #green"
   ]
  },
  {
   "cell_type": "code",
   "execution_count": 3,
   "id": "a5664cb8",
   "metadata": {},
   "outputs": [],
   "source": [
    "df=pd.read_csv('DataModelDetailedwDataTypes.csv')"
   ]
  },
  {
   "cell_type": "code",
   "execution_count": 4,
   "id": "d595110f",
   "metadata": {},
   "outputs": [],
   "source": [
    "#dfmean=df.groupby(['Country'])['Coverage'].mean()\n",
    "#dfmean.to_csv(\"avgpercountry.csv\", index=True)"
   ]
  },
  {
   "cell_type": "code",
   "execution_count": 5,
   "id": "554e9260",
   "metadata": {},
   "outputs": [
    {
     "data": {
      "text/plain": [
       "'sunburst.html'"
      ]
     },
     "execution_count": 5,
     "metadata": {},
     "output_type": "execute_result"
    }
   ],
   "source": [
    "df['color']=df['Coverage'].apply(color_scale)\n",
    "df['gap']=100-df['Coverage']\n",
    "#print(df.columns)\n",
    "#print(df[['Coverage', 'gap']].head())\n",
    "fig_coverage=px.sunburst(df, color='color',path=['Region','Country','Brand','Model','Volume','Coverage'],\n",
    "                hover_name='Model',\n",
    "                #hover_data={'Columnname':False}, # removes a column from the hover data\n",
    "                maxdepth=3,title='Click in the chart to explore our data coverage', \n",
    "                #template='ggplot2',\n",
    "                branchvalues='total', \n",
    "                values='Volume'\n",
    "               )\n",
    "fig_coverage.update_traces(textinfo='label+ percent entry')\n",
    "#px.sunburst()\n",
    "pyo.plot(fig_coverage, auto_open=True, output_type='file', filename='sunburst.html')"
   ]
  },
  {
   "cell_type": "code",
   "execution_count": 7,
   "id": "bc44909a",
   "metadata": {},
   "outputs": [
    {
     "data": {
      "text/plain": [
       "'GAP_sunburst.html'"
      ]
     },
     "execution_count": 7,
     "metadata": {},
     "output_type": "execute_result"
    }
   ],
   "source": [
    "fig_gap=px.sunburst(df, color='color',path=['Region','Country','Brand','Model','gap'],\n",
    "                hover_name='Model',\n",
    "                #hover_data={'Columnname':False}, # removes a column from the hover data\n",
    "                maxdepth=3,title='Click in the chart to explore the GAPS in our data coverage', \n",
    "                #template='ggplot2',\n",
    "                branchvalues='remainder', #branchvalues='total',\n",
    "                values='gap'\n",
    "               )\n",
    "fig_gap.update_traces(textinfo='label')\n",
    "#px.sunburst()\n",
    "pyo.plot(fig_gap, auto_open=True, output_type='file', filename='GAP_sunburst.html')"
   ]
  },
  {
   "cell_type": "code",
   "execution_count": 8,
   "id": "dd6d8113",
   "metadata": {},
   "outputs": [],
   "source": [
    "# Define tables\n",
    "table_coverage = dcc.Graph(id='table-coverage')\n",
    "table_gap = dcc.Graph(id='table-gap')"
   ]
  },
  {
   "cell_type": "code",
   "execution_count": 9,
   "id": "a6993201",
   "metadata": {},
   "outputs": [],
   "source": [
    "# Define slider\n",
    "slider_years = dcc.RangeSlider(\n",
    "    id='slider-years',\n",
    "    min=df['Year'].min(),\n",
    "    max=df['Year'].max(),\n",
    "    value=[df['Year'].min(), df['Year'].max()],\n",
    "    marks={str(year): str(year) for year in df['Year'].unique()},\n",
    "    step=None\n",
    ")"
   ]
  },
  {
   "cell_type": "code",
   "execution_count": 10,
   "id": "823f4d9f",
   "metadata": {},
   "outputs": [],
   "source": [
    "# Define app layout\n",
    "app = dash.Dash(__name__)\n",
    "app.layout = html.Div([\n",
    "    dcc.Tabs([\n",
    "        dcc.Tab(label='Coverage View', children=[\n",
    "            html.Div([\n",
    "                html.Div([dcc.Graph(id='sunburst-coverage', figure=fig_coverage)], className='six columns'),\n",
    "                html.Div([table_coverage], className='six columns'),\n",
    "            ], className='row'),\n",
    "        ]),\n",
    "        dcc.Tab(label='Planner View', children=[\n",
    "            html.Div([\n",
    "                html.Div([dcc.Graph(id='sunburst-gap', figure=fig_gap)], className='six columns'),\n",
    "                html.Div([table_gap], className='six columns'),\n",
    "            ], className='row'),\n",
    "        ]),\n",
    "    ]),\n",
    "    html.Div(slider_years),\n",
    "])"
   ]
  },
  {
   "cell_type": "code",
   "execution_count": 12,
   "id": "4d1f873a",
   "metadata": {},
   "outputs": [],
   "source": [
    "#Define callback for coverage table\n",
    "@app.callback(\n",
    "    dash.dependencies.Output('table-coverage', 'figure'),\n",
    "    [dash.dependencies.Input('sunburst-coverage', 'clickData'),\n",
    "     dash.dependencies.Input('slider-years', 'value')])\n",
    "def update_table_coverage(click_data, year_range):\n",
    "    if click_data is None:\n",
    "        df_filtered = df[(df['Year'] >= year_range[0]) & (df['Year'] <= year_range[1])]\n",
    "    else:\n",
    "        model_name = click_data['points'][0]['hovertext']\n",
    "        df_filtered = df[(df['Year'] >= year_range[0]) & (df['Year'] <= year_range[1]) & (df['Model'] == model_name)]\n",
    "    fig = go.table(df_filtered, height=400)\n",
    "    return fig"
   ]
  },
  {
   "cell_type": "code",
   "execution_count": null,
   "id": "6e87974f",
   "metadata": {
    "scrolled": false
   },
   "outputs": [],
   "source": [
    "#color_scale=[[0, \"red\"], [0.60, \"yellow\"],[0.8, \"green\"]]\n",
    "#dfmap['Coverage_in_percentage'] = dfmap['Coverage'].astype(str) + '%'\n",
    "#px.choropleth(dfmap, locations='Country',color= 'color', title='Coverage in Europe',hover_data=['Coverage_in_percentage'],scope='europe')"
   ]
  },
  {
   "cell_type": "code",
   "execution_count": null,
   "id": "572bde5a",
   "metadata": {},
   "outputs": [],
   "source": [
    "#import plotly.express as px\n",
    "#import numpy as np\n",
    "#df = px.data.gapminder().query(\"year == 2007\")\n",
    "#fig = px.sunburst(df, path=['continent', 'country'], values='pop',\n",
    "#                  color='lifeExp', hover_data=['iso_alpha'],\n",
    "#                  color_continuous_scale='RdBu',\n",
    "#                  color_continuous_midpoint=np.average(df['lifeExp'], weights=df['pop']))\n",
    "#fig.show()"
   ]
  },
  {
   "cell_type": "code",
   "execution_count": null,
   "id": "24a4beb4",
   "metadata": {},
   "outputs": [],
   "source": [
    "#This code successfuly creates a european map with a trafic light color scale but it is continuous\n",
    "#dfmap = pd.read_csv('DataModelCoverageforMap.csv')\n",
    "#dfmap['color']=dfmap['Coverage'].apply(color_scale)\n",
    "#dfmap['Coverage_in_percentage'] = dfmap['Coverage'].astype(str) + '%'\n",
    "#fig1=px.choropleth(dfmap, locations='Country',color= 'Coverage',labels={'Coverage':'Coverage in %'},color_continuous_scale=[[0, \"red\"], [0.60, \"yellow\"],[0.8, \"green\"], [1, \"green\"]], range_color=(0,100), title='Coverage in Europe',hover_data=['Country'],scope='europe')\n",
    "#pyo.plot(fig1, auto_open=True, output_type='file', filename='europemap.html')"
   ]
  }
 ],
 "metadata": {
  "kernelspec": {
   "display_name": "Python 3",
   "language": "python",
   "name": "python3"
  },
  "language_info": {
   "codemirror_mode": {
    "name": "ipython",
    "version": 3
   },
   "file_extension": ".py",
   "mimetype": "text/x-python",
   "name": "python",
   "nbconvert_exporter": "python",
   "pygments_lexer": "ipython3",
   "version": "3.9.5"
  },
  "vscode": {
   "interpreter": {
    "hash": "3ad933181bd8a04b432d3370b9dc3b0662ad032c4dfaa4e4f1596c548f763858"
   }
  }
 },
 "nbformat": 4,
 "nbformat_minor": 5
}
