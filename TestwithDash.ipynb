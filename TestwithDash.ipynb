{
 "cells": [
  {
   "cell_type": "code",
   "execution_count": 6,
   "id": "3c2c0f55",
   "metadata": {},
   "outputs": [],
   "source": [
    "import dash\n",
    "from dash import dcc\n",
    "from dash import html\n",
    "import pandas as pd\n",
    "import plotly.express as px"
   ]
  },
  {
   "cell_type": "code",
   "execution_count": 7,
   "id": "fd4e82a7",
   "metadata": {},
   "outputs": [],
   "source": [
    "def color_scale(value):\n",
    "    if value < 50:\n",
    "        return \"#FF0000\"#red\n",
    "    elif value >= 50 and value <= 80:\n",
    "        return \"#FFFF00\" #yellow\n",
    "    elif value > 80:\n",
    "        return \"#00FF00\" #green"
   ]
  },
  {
   "cell_type": "code",
   "execution_count": 10,
   "id": "0fdbc395",
   "metadata": {},
   "outputs": [
    {
     "name": "stdout",
     "output_type": "stream",
     "text": [
      "Dash is running on http://127.0.0.1:8050/\n",
      "\n",
      "Dash is running on http://127.0.0.1:8050/\n",
      "\n",
      "Dash is running on http://127.0.0.1:8050/\n",
      "\n",
      " * Serving Flask app '__main__' (lazy loading)\n",
      " * Environment: production\n",
      "   WARNING: This is a development server. Do not use it in a production deployment.\n",
      "   Use a production WSGI server instead.\n",
      " * Debug mode: on\n"
     ]
    },
    {
     "ename": "SystemExit",
     "evalue": "1",
     "output_type": "error",
     "traceback": [
      "An exception has occurred, use %tb to see the full traceback.\n",
      "\u001b[1;31mSystemExit\u001b[0m\u001b[1;31m:\u001b[0m 1\n"
     ]
    }
   ],
   "source": [
    "# Load your data\n",
    "df = pd.read_csv('DataModelCoverage.csv')\n",
    "df['color'] = df['Coverage'].apply(color_scale)\n",
    "\n",
    "dfmap = pd.read_csv('DataModelCoverageforMap.csv')\n",
    "dfmap['color'] = dfmap['Coverage'].apply(color_scale)\n",
    "\n",
    "# Create the sunburst plot\n",
    "sunburst = px.sunburst(df, color='color', values='Coverage', path=['Region','Country','Brand','Model','Coverage'],hover_name='Country')\n",
    "\n",
    "# Create the choropleth map\n",
    "map = px.choropleth(dfmap, locations='Country',color= 'Coverage',labels={'Coverage':'Coverage in %'},color_continuous_scale=[[0, \"red\"], [0.60, \"yellow\"],[0.8, \"green\"], [1, \"green\"]], range_color=(0,100), title='Coverage in Europe',hover_data=['Country'],scope='europe')\n",
    "\n",
    "# Create the Dash app\n",
    "app = dash.Dash()\n",
    "app.layout = html.Div([\n",
    "    dcc.Tabs(id='tabs', value='sunburst', children=[\n",
    "        dcc.Tab(label='Coverage', value='sunburst', children=[\n",
    "            dcc.Graph(figure=sunburst)\n",
    "        ]),\n",
    "        dcc.Tab(label='Planner view', value='map', children=[\n",
    "            dcc.Graph(figure=map)\n",
    "        ])\n",
    "    ])\n",
    "])\n",
    "\n",
    "# Run the app\n",
    "if __name__ == '__main__':\n",
    "    app.run_server(debug=True)"
   ]
  },
  {
   "cell_type": "code",
   "execution_count": null,
   "id": "40e0638c",
   "metadata": {},
   "outputs": [],
   "source": []
  }
 ],
 "metadata": {
  "kernelspec": {
   "display_name": "Python 3",
   "language": "python",
   "name": "python3"
  },
  "language_info": {
   "codemirror_mode": {
    "name": "ipython",
    "version": 3
   },
   "file_extension": ".py",
   "mimetype": "text/x-python",
   "name": "python",
   "nbconvert_exporter": "python",
   "pygments_lexer": "ipython3",
   "version": "3.9.5"
  }
 },
 "nbformat": 4,
 "nbformat_minor": 5
}
